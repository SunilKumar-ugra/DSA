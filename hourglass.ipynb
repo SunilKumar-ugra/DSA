{
 "cells": [
  {
   "cell_type": "code",
   "execution_count": 1,
   "metadata": {},
   "outputs": [],
   "source": [
    "row=4"
   ]
  },
  {
   "cell_type": "code",
   "execution_count": 2,
   "metadata": {},
   "outputs": [
    {
     "name": "stdout",
     "output_type": "stream",
     "text": [
      "* * * * * * * \n",
      "  * * * * * \n",
      "    * * * \n",
      "      * \n"
     ]
    }
   ],
   "source": [
    "for i in range(row,0,-1):\n",
    "    for j in range(row-i):\n",
    "        print(\" \",end=\" \")\n",
    "    for k in range(1,2*i):\n",
    "        print(\"*\",end=\" \")\n",
    "    print()"
   ]
  },
  {
   "cell_type": "code",
   "execution_count": 4,
   "metadata": {},
   "outputs": [
    {
     "name": "stdout",
     "output_type": "stream",
     "text": [
      "      * \n",
      "    * * * \n",
      "  * * * * * \n",
      "* * * * * * * \n"
     ]
    }
   ],
   "source": [
    "for i in range(2 ,row+1):\n",
    "    for j in range(row-i):\n",
    "        print(\" \",end=\" \")\n",
    "    for k in range(1,2*i):\n",
    "        print(\"*\",end=\" \")\n",
    "    print()"
   ]
  },
  {
   "cell_type": "code",
   "execution_count": 6,
   "metadata": {},
   "outputs": [
    {
     "name": "stdout",
     "output_type": "stream",
     "text": [
      "* * * * * * * \n",
      "  * * * * * \n",
      "    * * * \n",
      "      * \n",
      "    * * * \n",
      "  * * * * * \n",
      "* * * * * * * \n"
     ]
    }
   ],
   "source": [
    "for i in range(row,0,-1):\n",
    "    for j in range(row-i):\n",
    "        print(\" \",end=\" \")\n",
    "    for k in range(1,2*i):\n",
    "        print(\"*\",end=\" \")\n",
    "    print()\n",
    "    \n",
    "for i in range(2 ,row+1):\n",
    "    for j in range(row-i):\n",
    "        print(\" \",end=\" \")\n",
    "    for k in range(1,2*i):\n",
    "        print(\"*\",end=\" \")\n",
    "    print()"
   ]
  },
  {
   "cell_type": "code",
   "execution_count": 7,
   "metadata": {},
   "outputs": [
    {
     "name": "stdout",
     "output_type": "stream",
     "text": [
      "1 2 3 4 5 6 7 \n",
      " 2 3 4 5 6 7 \n",
      "  3 4 5 6 7 \n",
      "   4 5 6 7 \n",
      "    5 6 7 \n",
      "     6 7 \n",
      "      7 \n",
      "     6 7 \n",
      "    5 6 7 \n",
      "   4 5 6 7 \n",
      "  3 4 5 6 7 \n",
      " 2 3 4 5 6 7 \n",
      "1 2 3 4 5 6 7 \n"
     ]
    }
   ],
   "source": [
    "# Python3 code for hour glass pattern \n",
    "  \n",
    "# Function definition \n",
    "def pattern(rows_no): \n",
    "  \n",
    "    # for loop for printing upper half \n",
    "    for i in range(1, rows_no + 1):  \n",
    "  \n",
    "        # printing i spaces at the  \n",
    "        # beginning of each row \n",
    "        for k in range(1, i): \n",
    "            print(\" \", end = \"\") \n",
    "          \n",
    "        # printing i to rows value \n",
    "        # at the end of each row \n",
    "        for j in range(i, rows_no + 1):  \n",
    "            print(j, end = \" \")  \n",
    "  \n",
    "        print() \n",
    "      \n",
    "    # for loop for printing lower half \n",
    "    for i in range(rows_no - 1, 0, -1):  \n",
    "  \n",
    "        # printing i spaces at the \n",
    "        # beginning of each row \n",
    "        for k in range(1, i): \n",
    "            print(\" \", end = \"\") \n",
    "          \n",
    "        # printing i to rows value \n",
    "        # at the end of each row \n",
    "        for j in range(i, rows_no + 1): \n",
    "            print(j, end = \" \") \n",
    "  \n",
    "        print() \n",
    "      \n",
    "# Driver code \n",
    "  \n",
    "# taking rows value from the user \n",
    "rows_no = 7\n",
    "  \n",
    "pattern(rows_no)  "
   ]
  }
 ],
 "metadata": {
  "kernelspec": {
   "display_name": "dsa",
   "language": "python",
   "name": "python3"
  },
  "language_info": {
   "codemirror_mode": {
    "name": "ipython",
    "version": 3
   },
   "file_extension": ".py",
   "mimetype": "text/x-python",
   "name": "python",
   "nbconvert_exporter": "python",
   "pygments_lexer": "ipython3",
   "version": "3.10.0"
  }
 },
 "nbformat": 4,
 "nbformat_minor": 2
}
